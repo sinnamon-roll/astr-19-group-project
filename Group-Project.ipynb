{
 "cells": [
  {
   "cell_type": "markdown",
   "id": "4f39f6de",
   "metadata": {},
   "source": [
    "5/13/22\n",
    "Imported libraries, worked on an implementation to read the data and plot it\n",
    "Didn't get too far, but I think this is fine. Got read in, separated all the data, prepared to plot it\n",
    "once I look up how to plot dates and times well enough."
   ]
  },
  {
   "cell_type": "markdown",
   "id": "382b5183",
   "metadata": {},
   "source": [
    "5/20/22 Fixed read in with conditionals and plottable data types, added combine function, plotted initial data as a test."
   ]
  },
  {
   "cell_type": "markdown",
   "id": "31e34e99",
   "metadata": {},
   "source": [
    "5/22/22 Added the cosine function and messed around with best fit lines, not too much progress on that front. Current best fit line doesn't look all that different from a cos wave and is really small compared to the measured data"
   ]
  },
  {
   "cell_type": "code",
   "execution_count": null,
   "id": "8592a6be",
   "metadata": {},
   "outputs": [],
   "source": [
    "import numpy as np\n",
    "import matplotlib.pyplot as plt\n",
    "import statistics\n",
    "from scipy.optimize import curve_fit"
   ]
  },
  {
   "cell_type": "code",
   "execution_count": null,
   "id": "400d17b8",
   "metadata": {},
   "outputs": [],
   "source": [
    "def cos_func(time, amp, freq):\n",
    "    result = []\n",
    "    for x in time:\n",
    "        result.append(amp * np.cos(freq * x)+2.585)\n",
    "    return(result)"
   ]
  },
  {
   "cell_type": "code",
   "execution_count": null,
   "id": "fda11a41",
   "metadata": {},
   "outputs": [],
   "source": [
    "def combine(day, time):\n",
    "    y = 0\n",
    "    base = 24\n",
    "    divis = 0\n",
    "    convert = []\n",
    "    for increment in time:\n",
    "        hours, minutes = increment.split(\":\")\n",
    "        divis = ((int(hours) * 60)+int(minutes))/60\n",
    "        convert.append(divis/base)\n",
    "    together = [int(x) for x in day]\n",
    "    for z in convert:\n",
    "        together[y] += z\n",
    "        y += 1\n",
    "    return(together)\n",
    "        "
   ]
  },
  {
   "cell_type": "markdown",
   "id": "015d6ec1",
   "metadata": {},
   "source": [
    "5/24 Couldn't work too much on it today, just tried fitting the curve better. Happy enough with my current progress to move on to the next portion of the assignment."
   ]
  },
  {
   "cell_type": "code",
   "execution_count": null,
   "id": "65ca18a2",
   "metadata": {},
   "outputs": [],
   "source": [
    "day = []\n",
    "time = []\n",
    "height = []\n",
    "\n",
    "with open('ASTR19_S22_group_project_data.txt', 'r') as file:\n",
    "    skip = file.readlines()[3:]\n",
    "for row in skip:\n",
    "    row = row.split(' ')\n",
    "    if row[0] == '':\n",
    "        day.append(row[1])\n",
    "        if row[2] == '':\n",
    "            time.append(row[3])\n",
    "            if row[4] == '':\n",
    "                str1 = row[5]\n",
    "                height.append(str1.strip())\n",
    "            else:\n",
    "                str2 = row[4]\n",
    "                height.append(str2.strip())\n",
    "        else:\n",
    "            time.append(row[2])\n",
    "            if row[3] == '':\n",
    "                str3 = row[4]\n",
    "                height.append(str3.strip())\n",
    "            else:\n",
    "                str4 = row[3]\n",
    "                height.append(str4.strip())\n",
    "    else:\n",
    "        day.append(row[0])\n",
    "        if row[1] == '':\n",
    "            time.append(row[2])\n",
    "            if row[3] == '':\n",
    "                str5 = row[4]\n",
    "                height.append(str5.strip())\n",
    "            else:\n",
    "                str6 = row[3]\n",
    "                height.append(str6.strip())\n",
    "        else:\n",
    "            time.append(row[1])\n",
    "            if row[2] == '':\n",
    "                str7 = row[3]\n",
    "                height.append(str7.strip())\n",
    "            else:\n",
    "                str8 = row[2]\n",
    "                height.append(str8.strip())\n",
    "dtconv = combine(day, time)\n",
    "hgtconv = [float(y) for y in height]\n",
    "#fig, blah = plt.subplots(figsize=(8, 5.5))\n",
    "    \n",
    "#blah.plot(dtconv, hgtconv)\n",
    "    \n",
    "popt, pcov = curve_fit(cos_func, dtconv, hgtconv, p0=[0, 42])\n",
    "    \n",
    "h = 0.0;\n",
    "r = 0.0;\n",
    "for n in hgtconv:\n",
    "    r = n + h;\n",
    "    h = n;\n",
    "r /= h;\n",
    "    \n",
    "fig, ax = plt.subplots(1, 1)\n",
    "ax.plot(dtconv, hgtconv, label ='Actual data')\n",
    "ax.plot(dtconv, cos_func(dtconv, popt[0], popt[1]), label='Best Fit')\n",
    "plt.title('Data and Best Fit Line')\n",
    "plt.xlabel('Day')\n",
    "plt.ylabel('Height of Tide')\n",
    "ax.legend()\n",
    "fig.savefig(\"GPimg1.pdf\")"
   ]
  },
  {
   "cell_type": "markdown",
   "id": "251e074a",
   "metadata": {},
   "source": [
    "5/25 Working with subtracting the initial plot and plotting residuals"
   ]
  },
  {
   "cell_type": "code",
   "execution_count": null,
   "id": "9f790c63",
   "metadata": {},
   "outputs": [],
   "source": [
    "exY = cos_func(dtconv, popt[0], popt[1])\n",
    "acY = hgtconv\n",
    "res = np.subtract(acY, exY)\n",
    "fig, ax = plt.subplots(1, 1)\n",
    "ax.plot(dtconv, res, '.', label ='Residuals')\n",
    "ax.plot(dtconv, cos_func(dtconv, popt[0], popt[1]), label='Best Fit')\n",
    "plt.title('Plot of Residuals and Best Fit Line')\n",
    "plt.xlabel('Day')\n",
    "plt.ylabel('Height of Tide')\n",
    "ax.legend()"
   ]
  },
  {
   "cell_type": "code",
   "execution_count": null,
   "id": "9560b11f",
   "metadata": {},
   "outputs": [],
   "source": [
    "plt.hist(res, 20)\n",
    "plt.title('Histogram of Residuals')\n",
    "plt.xlabel('Residuals')\n",
    "plt.ylabel('Frequency of Residuals')\n",
    "plt.axvline(x=np.mean(res)-np.std(res), ls = \"--\", color='xkcd:scarlet', alpha=0.7)\n",
    "plt.axvline(x=np.mean(res)+np.std(res), ls = \"--\", color='xkcd:scarlet', alpha=0.7)\n",
    "fig.savefig(\"GPimg2.pdf\")"
   ]
  },
  {
   "cell_type": "markdown",
   "id": "8f6101cf",
   "metadata": {},
   "source": [
    "Histogram with added outlier"
   ]
  },
  {
   "cell_type": "code",
   "execution_count": null,
   "id": "695e37a7",
   "metadata": {},
   "outputs": [],
   "source": [
    "plt.hist(np.append(res, 2.0), 20)\n",
    "plt.title('Histogram of Residuals with Outlier')\n",
    "plt.xlabel('Residuals')\n",
    "plt.ylabel('Frequency of Residuals')\n",
    "plt.axvline(x=np.mean(res)-np.std(res), ls = \"--\", color='xkcd:scarlet', alpha=0.7)\n",
    "plt.axvline(x=np.mean(res)+np.std(res), ls = \"--\", color='xkcd:scarlet', alpha=0.7)\n"
   ]
  },
  {
   "cell_type": "code",
   "execution_count": null,
   "id": "d345ae01",
   "metadata": {},
   "outputs": [],
   "source": []
  }
 ],
 "metadata": {
  "kernelspec": {
   "display_name": "Python 3 (ipykernel)",
   "language": "python",
   "name": "python3"
  },
  "language_info": {
   "codemirror_mode": {
    "name": "ipython",
    "version": 3
   },
   "file_extension": ".py",
   "mimetype": "text/x-python",
   "name": "python",
   "nbconvert_exporter": "python",
   "pygments_lexer": "ipython3",
   "version": "3.10.4"
  }
 },
 "nbformat": 4,
 "nbformat_minor": 5
}
