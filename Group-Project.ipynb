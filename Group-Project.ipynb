{
 "cells": [
  {
   "cell_type": "markdown",
   "id": "4f39f6de",
   "metadata": {},
   "source": [
    "5/13/22\n",
    "Imported libraries, worked on an implementation to read the data and plot it\n",
    "Didn't get too far, but I think this is fine. Got read in, separated all the data, prepared to plot it\n",
    "once I look up how to plot dates and times well enough."
   ]
  },
  {
   "cell_type": "code",
   "execution_count": null,
   "id": "8592a6be",
   "metadata": {},
   "outputs": [],
   "source": [
    "import numpy as np\n",
    "import matplotlib.pyplot as plt\n",
    "import scipy as sp"
   ]
  },
  {
   "cell_type": "code",
   "execution_count": null,
   "id": "65ca18a2",
   "metadata": {},
   "outputs": [],
   "source": [
    "day = []\n",
    "time = []\n",
    "height = []\n",
    "\n",
    "with open('ASTR19_S22_group_project_data.txt', 'r') as file\n",
    "    skip = file.readlines()[3:]\n",
    "for row in skip\n",
    "    row = row.split(' ')\n",
    "    day.append(row[0])\n",
    "    time.append(row[1])\n",
    "    height.append(row[2])"
   ]
  }
 ],
 "metadata": {
  "kernelspec": {
   "display_name": "Python 3 (ipykernel)",
   "language": "python",
   "name": "python3"
  },
  "language_info": {
   "codemirror_mode": {
    "name": "ipython",
    "version": 3
   },
   "file_extension": ".py",
   "mimetype": "text/x-python",
   "name": "python",
   "nbconvert_exporter": "python",
   "pygments_lexer": "ipython3",
   "version": "3.10.4"
  }
 },
 "nbformat": 4,
 "nbformat_minor": 5
}
